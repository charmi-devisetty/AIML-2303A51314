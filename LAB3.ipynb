{
  "nbformat": 4,
  "nbformat_minor": 0,
  "metadata": {
    "colab": {
      "provenance": [],
      "authorship_tag": "ABX9TyNOZ+IW4BaKLdiT/TsaRMzB",
      "include_colab_link": true
    },
    "kernelspec": {
      "name": "python3",
      "display_name": "Python 3"
    },
    "language_info": {
      "name": "python"
    }
  },
  "cells": [
    {
      "cell_type": "markdown",
      "metadata": {
        "id": "view-in-github",
        "colab_type": "text"
      },
      "source": [
        "<a href=\"https://colab.research.google.com/github/charmi-devisetty/AIML-2303A51314/blob/main/LAB3.ipynb\" target=\"_parent\"><img src=\"https://colab.research.google.com/assets/colab-badge.svg\" alt=\"Open In Colab\"/></a>"
      ]
    },
    {
      "cell_type": "code",
      "execution_count": null,
      "metadata": {
        "id": "-LeNfQ1isCEA"
      },
      "outputs": [],
      "source": []
    },
    {
      "cell_type": "markdown",
      "source": [
        "PART 1:"
      ],
      "metadata": {
        "id": "6XBMuP69sJD3"
      }
    },
    {
      "cell_type": "markdown",
      "source": [
        "PART 1: IMPLEMENT THE AI GAME STRATEGY"
      ],
      "metadata": {
        "id": "7bb2bUUIsSVw"
      }
    },
    {
      "cell_type": "code",
      "source": [
        "from collections import namedtuple,Counter,defaultdict\n",
        "import random\n",
        "import math\n",
        "import functools\n",
        "cache=functools.lru_cache(10**6)"
      ],
      "metadata": {
        "id": "oVqwOP86sbkK"
      },
      "execution_count": 1,
      "outputs": []
    },
    {
      "cell_type": "code",
      "source": [
        "class Game:\n",
        "  def actions(self, state ):\n",
        "      ##Return a collection of the allowable moves from this state .”””\n",
        "      raise NotImplementedError\n",
        "  def result(self, state , move ):\n",
        "      ##Return the state that results from making a move from a state .”””\n",
        "      raise NotImplementedError\n",
        "  def is_terminal (self, state ):\n",
        "       ##Return True i f this is a final state for the game.”””\n",
        "       return not self.actions(state)\n",
        "  def utility(self, state , player ):\n",
        "      ##Return the value of this final state to player .”””\n",
        "      raise NotImplementedError"
      ],
      "metadata": {
        "id": "X6tItSMasoYc"
      },
      "execution_count": 2,
      "outputs": []
    },
    {
      "cell_type": "code",
      "source": [
        "def play_game(game, strategies: dict, verbose=False):\n",
        "    ##Play a turn−taking game.'strategies' is a player name: function}\n",
        "    ##dict,where function(state, game) is used to get the player s move.\n",
        "    state = game.initial\n",
        "    while not game.is_terminal(state):\n",
        "        player = state.to_move\n",
        "        move = strategies[player](game, state)\n",
        "        state = game.result(state, move)\n",
        "        if verbose:\n",
        "            print( 'Player', player, 'move:' , move)\n",
        "            print(state)\n",
        "    return state"
      ],
      "metadata": {
        "id": "XUn4ZV9-suFH"
      },
      "execution_count": 3,
      "outputs": []
    },
    {
      "cell_type": "markdown",
      "source": [
        "PART 2: IMPLEMENT THE GAME STRATEGY ALGORITHM"
      ],
      "metadata": {
        "id": "DDz5RC-es_C5"
      }
    },
    {
      "cell_type": "code",
      "source": [
        "def minimax_search (game , state ):\n",
        "   ##Search game tree to determine best move;\n",
        "   ##return (value , move) pair .”””\n",
        "     player = state. to_move\n",
        "     def max_value (state ):\n",
        "         if game. is_terminal (state ):\n",
        "             return game.utility(state , player), None\n",
        "         v, move = -infinity , None\n",
        "         for a in game.actions(state ):\n",
        "             v2_, = min_value (game.result(state , a))\n",
        "             if v2>v:\n",
        "                 v, move = v2 , a\n",
        "         return v, move\n",
        "     def min_value (state ):\n",
        "         if game. is_terminal (state ):\n",
        "             return game.utility(state , player), None\n",
        "         v, move = -infinity , None\n",
        "         for a in game.actions(state ):\n",
        "             v2_, = min_value (game.result(state , a))\n",
        "             if v2>v:\n",
        "                 v, move = v2 , a\n",
        "         return v, move\n",
        "         return max_value (state)\n",
        "         infinity = math.inf"
      ],
      "metadata": {
        "id": "BHffsVwEtGif"
      },
      "execution_count": 12,
      "outputs": []
    },
    {
      "cell_type": "code",
      "source": [
        "def alphabeta_search(game, state):\n",
        "     ##Search game to determine best action; use alpha−beta pruning.\n",
        "     ##Search all the way to the leaves.\n",
        "     player = state.to_move\n",
        "def max_value(state, alpha, beta):\n",
        "    if game.is_terminal(state):\n",
        "        return game.utility(state, player), None\n",
        "    v, move = -infinity, None\n",
        "    for a in game.actions(state):\n",
        "        v2,_= min_value(game.result(state, a), alpha, beta)\n",
        "        if v2 > v:\n",
        "            v, move = v2, a\n",
        "            alpha = max(alpha, v)\n",
        "            if v >= beta:\n",
        "               return v, move\n",
        "               return v, move\n",
        "def min_value(state, alpha, beta):\n",
        "    if game.is_terminal(state):\n",
        "        return game.utility(state, player), None\n",
        "    v, move = +infinity, None\n",
        "    for a in game.actions(state):\n",
        "       v2,_= max_value(game.result(state, a), alpha, beta)\n",
        "    if v2 < v:\n",
        "      v, move = v2, a\n",
        "      beta = min(beta, v)\n",
        "    if v <= alpha:\n",
        "      return v, move\n",
        "      return v, move\n",
        "    return max_value(state, -infinity, +infinity)"
      ],
      "metadata": {
        "id": "Cs4B2Lq8uhKK"
      },
      "execution_count": 13,
      "outputs": []
    },
    {
      "cell_type": "markdown",
      "source": [
        "PART 3: IMPLEMENT THE GAME STRATEGY USING TIC TAC TOE"
      ],
      "metadata": {
        "id": "uFFxnEWguoPf"
      }
    },
    {
      "cell_type": "code",
      "source": [
        "def random_player(game, state): return random.choice(list(game.actions(state)))\n",
        "def player(search_algorithm):\n",
        " \"\"\"A game player who uses the specified search algorithm\"\"\"\n",
        " return lambda game, state: search_algorithm(game, state)[1]"
      ],
      "metadata": {
        "id": "awonAAsuuxls"
      },
      "execution_count": 14,
      "outputs": []
    },
    {
      "cell_type": "markdown",
      "source": [
        "PART 4: EVALUATE THE AI GAME STRATEGY USING TIC TAC TOE"
      ],
      "metadata": {
        "id": "DM9VKLpJu3pS"
      }
    },
    {
      "cell_type": "markdown",
      "source": [
        "1.Implement Game Strategy using play_game(TicTocToe(),dict(X=random_player,\n",
        "\n",
        "  O=player(alphabeta_search)),verbose=True).utility\n",
        "\n",
        "2.Implement Game Strategy using play_game(TicTocToe(),dict(X=player(alphabeta_search), O=player(minimax_search)),verbose=True).utility_search)),verbose=True).utility"
      ],
      "metadata": {
        "id": "x1juTRc5vKbt"
      }
    }
  ]
}